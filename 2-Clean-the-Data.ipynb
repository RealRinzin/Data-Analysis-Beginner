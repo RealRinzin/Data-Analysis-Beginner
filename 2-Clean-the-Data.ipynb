{
 "cells": [
  {
   "cell_type": "code",
   "execution_count": null,
   "metadata": {},
   "outputs": [],
   "source": []
  },
  {
   "cell_type": "code",
   "execution_count": 52,
   "metadata": {},
   "outputs": [],
   "source": [
    "# import Pandas Library / Package\n",
    "import pandas as pd"
   ]
  },
  {
   "cell_type": "code",
   "execution_count": 53,
   "metadata": {},
   "outputs": [],
   "source": [
    "df = pd.read_csv('../Data-Analysis-Learning/dirty_data.csv')"
   ]
  },
  {
   "cell_type": "code",
   "execution_count": 54,
   "metadata": {},
   "outputs": [
    {
     "data": {
      "text/plain": [
       "ID          500\n",
       "Name        450\n",
       "Age          74\n",
       "Email       398\n",
       "Country     205\n",
       "Salary      498\n",
       "JoinDate    259\n",
       "IsActive      2\n",
       "Score        86\n",
       "dtype: int64"
      ]
     },
     "execution_count": 54,
     "metadata": {},
     "output_type": "execute_result"
    }
   ],
   "source": [
    "# nunique() Function\n",
    "# Returns the number of unique in each column\n",
    "df.nunique()"
   ]
  },
  {
   "cell_type": "code",
   "execution_count": 71,
   "metadata": {},
   "outputs": [
    {
     "data": {
      "text/plain": [
       "<bound method Series.info of Country\n",
       "Iraq                       6\n",
       "Iran                       5\n",
       "Bahamas                    5\n",
       "Saudi Arabia               5\n",
       "Liberia                    4\n",
       "                          ..\n",
       "North Macedonia            1\n",
       "Cocos (Keeling) Islands    1\n",
       "Niue                       1\n",
       "Nigeria                    1\n",
       "Rwanda                     1\n",
       "Name: count, Length: 205, dtype: int64>"
      ]
     },
     "execution_count": 71,
     "metadata": {},
     "output_type": "execute_result"
    }
   ],
   "source": [
    "# value_count() function\n",
    "# returns the number of unique values in each character or column value\n",
    "df.value_counts('Country')"
   ]
  },
  {
   "cell_type": "code",
   "execution_count": null,
   "metadata": {},
   "outputs": [],
   "source": [
    "df."
   ]
  },
  {
   "cell_type": "code",
   "execution_count": null,
   "metadata": {},
   "outputs": [],
   "source": []
  }
 ],
 "metadata": {
  "kernelspec": {
   "display_name": "base",
   "language": "python",
   "name": "python3"
  },
  "language_info": {
   "codemirror_mode": {
    "name": "ipython",
    "version": 3
   },
   "file_extension": ".py",
   "mimetype": "text/x-python",
   "name": "python",
   "nbconvert_exporter": "python",
   "pygments_lexer": "ipython3",
   "version": "3.12.4"
  }
 },
 "nbformat": 4,
 "nbformat_minor": 2
}
