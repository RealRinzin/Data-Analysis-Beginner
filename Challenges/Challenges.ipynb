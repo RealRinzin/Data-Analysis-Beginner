{
 "cells": [
  {
   "cell_type": "markdown",
   "metadata": {},
   "source": [
    "### Exercise and Challenges"
   ]
  },
  {
   "cell_type": "code",
   "execution_count": 30,
   "metadata": {},
   "outputs": [
    {
     "data": {
      "text/plain": [
       "became_member_on    datetime64[ns]\n",
       "gender                      object\n",
       "age                          int64\n",
       "income                     float64\n",
       "dtype: object"
      ]
     },
     "execution_count": 30,
     "metadata": {},
     "output_type": "execute_result"
    }
   ],
   "source": [
    "# Import the pandas\n",
    "import pandas as pd\n",
    "# import the file\n",
    "df = pd.read_csv('../Challenges/customers.csv')\n",
    "df.dropna(inplace=True)\n",
    "df.drop(columns='customer_id',inplace=True)\n",
    "# Change become_member_on type to date/time\n",
    "df['became_member_on'] = df['became_member_on'].apply(pd.to_datetime)\n",
    "df.head(1)\n",
    "df.dtypes"
   ]
  },
  {
   "cell_type": "code",
   "execution_count": null,
   "metadata": {},
   "outputs": [],
   "source": []
  }
 ],
 "metadata": {
  "kernelspec": {
   "display_name": "Python 3",
   "language": "python",
   "name": "python3"
  },
  "language_info": {
   "codemirror_mode": {
    "name": "ipython",
    "version": 3
   },
   "file_extension": ".py",
   "mimetype": "text/x-python",
   "name": "python",
   "nbconvert_exporter": "python",
   "pygments_lexer": "ipython3",
   "version": "3.12.1"
  }
 },
 "nbformat": 4,
 "nbformat_minor": 2
}
